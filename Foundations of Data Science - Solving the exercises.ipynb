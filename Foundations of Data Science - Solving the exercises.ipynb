{
 "cells": [
  {
   "cell_type": "markdown",
   "metadata": {},
   "source": [
    "# Foundations of Data Science - Solving the exercises\n",
    "\n",
    "This notebook is an experiment with two purposes:\n",
    "\n",
    "  * Analyze if jupyter + GitHub is a viable blogging platform.\n",
    "  * Learn more about data science.\n",
    "  \n",
    "My idea is to do detailed solutions of each exercise, using the embedded Python to create plots and do numerical solutions."
   ]
  },
  {
   "cell_type": "markdown",
   "metadata": {},
   "source": [
    "## Chapter 2"
   ]
  },
  {
   "cell_type": "markdown",
   "metadata": {},
   "source": [
    "### Exercise 2.1\n",
    "\n",
    "The first two items ask to compute the expected values $E(x)$, $E(x^2)$, $E(x - y)$, $E(xy)$ and $E(x - y)^2$ for two cases:\n",
    "\n",
    "  * When $x$ and $y$ are uniform variables in the interval $[0, 1]$.\n",
    "  * When $x$ and $y$ are uniform variables in the interval $[-\\frac{1}{2}, \\frac{1}{2}]$."
   ]
  },
  {
   "cell_type": "markdown",
   "metadata": {},
   "source": [
    "#### Item 2.1.1\n",
    "\n",
    "By symmetry we know that\n",
    "\n",
    "$E(x) = \\frac{1}{2}$ and\n",
    "\n",
    "$E(x - y) = 0$.\n",
    "\n",
    "Computing directly the other expressions:\n",
    "\n",
    "$E(x^2) = \\int_0^1 dx\\,x^2 = \\left.\\frac{x^3}{3}\\right|_0^1 = \\frac{1}{3}$\n",
    "\n",
    "$E(xy) = \\int_0^1 dx \\int_0^1 dy\\,xy = \\int_0^1 dx\\,x \\int_0^1 dy\\,y = \\left(\\int_0^1 dx\\,x\\right)^2 = \\left(\\left. \\frac{x^2}{2}\\right|_0^1\\right)^2 = \\left(\\frac{1}{2}\\right)^2 = \\frac{1}{4}$\n",
    "\n",
    "$E(x - y)^2 = E(x^2 - 2xy + y^2) = E(x^2) - 2E(xy) + E(y^2) = \\frac{1}{3} - 2\\cdot\\frac{1}{4} + \\frac{1}{3} = \\frac{1}{6}$"
   ]
  },
  {
   "cell_type": "markdown",
   "metadata": {},
   "source": [
    "Using numpy to quickly check the values:"
   ]
  },
  {
   "cell_type": "code",
   "execution_count": 5,
   "metadata": {
    "collapsed": false
   },
   "outputs": [],
   "source": [
    "from pylab import *\n",
    "from scipy import stats\n",
    "np.random.seed(12345678)"
   ]
  },
  {
   "cell_type": "code",
   "execution_count": 6,
   "metadata": {
    "collapsed": false
   },
   "outputs": [
    {
     "name": "stdout",
     "output_type": "stream",
     "text": [
      "E(x) ~= 0.497501152581\n",
      "E(x^2) ~= 0.330487553796\n",
      "E(x - y) ~= -0.00298308911664\n",
      "E(xy) ~= 0.248818147307\n",
      "E(x - y)^2 ~= 0.167162877\n"
     ]
    }
   ],
   "source": [
    "x = stats.uniform.rvs(loc=0.0, scale=1.0, size=10000)\n",
    "y = stats.uniform.rvs(loc=0.0, scale=1.0, size=10000)\n",
    "print 'E(x) ~=', np.average(x)\n",
    "print 'E(x^2) ~=', np.average(x ** 2)\n",
    "print 'E(x - y) ~=', np.average(x - y)\n",
    "print 'E(xy) ~=', np.average(x * y)\n",
    "print 'E(x - y)^2 ~=', np.average((x - y) ** 2)"
   ]
  },
  {
   "cell_type": "markdown",
   "metadata": {
    "collapsed": true
   },
   "source": [
    "#### Item 2.1.2\n",
    "\n",
    "Now by symmetry we know that\n",
    "\n",
    "$E(x) = 0$,\n",
    "\n",
    "$E(x - y) = 0$ and\n",
    "\n",
    "$E(xy) = 0$.\n",
    "\n",
    "By translational invariance,\n",
    "\n",
    "$E(x - y)^2 = \\frac{1}{6}$ like in the previous item.\n",
    "\n",
    "We can compute the variance directly,\n",
    "\n",
    "$E(x^2) = \\int_{-\\frac{1}{2}}^{\\frac{1}{2}} dx\\,x^2 = 2\\int_0^{\\frac{1}{2}} dx\\,x^2 = 2\\left.\\frac{x^3}{3}\\right|_0^{\\frac{1}{2}} = 2\\frac{\\frac{1}{8}}{3} = \\frac{1}{12}$."
   ]
  },
  {
   "cell_type": "code",
   "execution_count": 8,
   "metadata": {
    "collapsed": false
   },
   "outputs": [
    {
     "name": "stdout",
     "output_type": "stream",
     "text": [
      "E(x) ~= 0.00431562703003\n",
      "E(x^2) ~= 0.08397723813\n",
      "E(x - y) ~= 0.00536652416663\n",
      "E(xy) ~= -2.09627695829e-06\n",
      "E(x - y)^2 ~= 0.167627261595\n"
     ]
    }
   ],
   "source": [
    "x = stats.uniform.rvs(loc=-0.5, scale=1.0, size=10000)\n",
    "y = stats.uniform.rvs(loc=-0.5, scale=1.0, size=10000)\n",
    "print 'E(x) ~=', np.average(x)\n",
    "print 'E(x^2) ~=', np.average(x ** 2)\n",
    "print 'E(x - y) ~=', np.average(x - y)\n",
    "print 'E(xy) ~=', np.average(x * y)\n",
    "print 'E(x - y)^2 ~=', np.average((x - y) ** 2)"
   ]
  },
  {
   "cell_type": "markdown",
   "metadata": {},
   "source": [
    "#### Item 2.1.3\n",
    "\n",
    "As every coordinate of each point will be independent, the result will be given by multiplying the value of $E(x - y)^2$ by $d$,\n",
    "\n",
    "$E(\\mathrm{dist}) = \\frac{d}{6}$.\n",
    "\n",
    "Checking for $d = 24$:"
   ]
  },
  {
   "cell_type": "code",
   "execution_count": 11,
   "metadata": {
    "collapsed": false
   },
   "outputs": [
    {
     "name": "stdout",
     "output_type": "stream",
     "text": [
      "E(dist) ~= 4.00716505363\n"
     ]
    }
   ],
   "source": [
    "def dist_rv(d): \n",
    "    return np.sum((stats.uniform.rvs(loc=0.0, scale=1.0, size=d) -\n",
    "                   stats.uniform.rvs(loc=0.0, scale=1.0, size=d)) ** 2)\n",
    "print 'E(dist) ~=', np.average([dist_rv(24) for _ in range(10000)])"
   ]
  }
 ],
 "metadata": {
  "kernelspec": {
   "display_name": "Python 2",
   "language": "python",
   "name": "python2"
  },
  "language_info": {
   "codemirror_mode": {
    "name": "ipython",
    "version": 2
   },
   "file_extension": ".py",
   "mimetype": "text/x-python",
   "name": "python",
   "nbconvert_exporter": "python",
   "pygments_lexer": "ipython2",
   "version": "2.7.12"
  }
 },
 "nbformat": 4,
 "nbformat_minor": 1
}
